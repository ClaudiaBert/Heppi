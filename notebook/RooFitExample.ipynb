{
    "cells": [
        {
            "cell_type": "code",
            "execution_count": 1,
            "metadata": {
                "collapsed": false,
                "id": "84f48375-dbe8-4410-909d-17196b0cefce",
                "focus": true
            },
            "outputs": [
                {
                    "data": {
                        "application/javascript": [
                            "require(['codemirror/mode/clike/clike'], function(Clike) { console.log('ROOTaaS - C++ CodeMirror module loaded'); });"
                        ]
                    },
                    "metadata": {},
                    "output_type": "display_data"
                },
                {
                    "data": {
                        "application/javascript": [
                            "IPython.CodeCell.config_defaults.highlight_modes['magic_text/x-c++src'] = {'reg':[/^%%cpp/]};"
                        ]
                    },
                    "metadata": {},
                    "output_type": "display_data"
                },
                {
                    "name": "stdout",
                    "output_type": "stream",
                    "text": [
                        "Welcome to ROOTaaS 6.06/02\n"
                    ]
                }
            ],
            "source": [
                "import ROOT\n",
                "import rootnotes # for inline display of plots\n",
                "import rootprint # capturing ROOT output\n",
                "c1 = rootnotes.default_canvas();"
            ]
        },
        {
            "cell_type": "code",
            "execution_count": null,
            "metadata": {
                "collapsed": true,
                "id": "dd804def-11f5-49a3-9605-073459767ff6",
                "focus": false
            },
            "outputs": [],
            "source": [
                "# create a workspace\n",
                "ws = ROOT.RooWorkspace(\"ws\")\n",
                "ws.factory('Gaussian::g(x[0,50],mu[30,10,40],sigma[3])')\n",
                "ws.factory('Exponential::e(x,tau[-.1,-3,0])')\n",
                "ws.factory('SUM::model(s[70,0,200]*g,b[300,0,1000]*e)')"
            ]
        },
        {
            "cell_type": "code",
            "execution_count": null,
            "metadata": {
                "collapsed": true,
                "id": "bf289d6b-ceb9-43e3-a1f5-9c0b8359443e",
                "focus": false
            },
            "outputs": [],
            "source": [
                "# get RooFit objects \n",
                "x = ws.var('x')         # the observable\n",
                "pdf = ws.pdf('model')   # the model (= PDF)\n",
                "# generate 50 events\n",
                "data = pdf.generate(ROOT.RooArgSet(x),50)\n",
                "print \"generate given number of events -> n_events =\",data.sumEntries()\n",
                "del data\n",
                "\n",
                "# set s to 100 and use the Extended option\n",
                "ws.var(\"s\").setVal(100)\n",
                "data = pdf.generate(ROOT.RooArgSet(x),ROOT.RooFit.Extended())\n",
                "print \"draw number of generated events from Poisson distribution with mean mu = s+b, n =\",data.sumEntries()\n",
                "del data\n",
                "\n",
                "# generate s+b=400 events\n",
                "data = pdf.generate(ROOT.RooArgSet(x))\n",
                "print \"nothing specified -> generate expected number of events: s+b =\",data.sumEntries()"
            ]
        },
        {
            "cell_type": "code",
            "execution_count": null,
            "metadata": {
                "collapsed": true,
                "id": "e9309ed1-8a42-4d00-beff-070eb0bc754a",
                "focus": false
            },
            "outputs": [],
            "source": []
        },
        {
            "cell_type": "code",
            "execution_count": null,
            "metadata": {
                "collapsed": false
            },
            "outputs": [],
            "source": []
        },
        {
            "cell_type": "code",
            "execution_count": null,
            "metadata": {
                "collapsed": false
            },
            "outputs": [],
            "source": []
        }
    ],
    "metadata": {
        "kernelspec": {
            "display_name": "Python 2",
            "language": "python",
            "name": "python2"
        },
        "language_info": {
            "codemirror_mode": {
                "name": "ipython",
                "version": 2
            },
            "file_extension": ".py",
            "mimetype": "text/x-python",
            "name": "python",
            "nbconvert_exporter": "python",
            "pygments_lexer": "ipython2",
            "version": "2.7.11"
        }
    },
    "nbformat": 4,
    "nbformat_minor": 0
}