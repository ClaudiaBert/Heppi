{
 "cells": [
  {
   "cell_type": "code",
   "execution_count": 1,
   "metadata": {
    "collapsed": false
   },
   "outputs": [],
   "source": [
    "%matplotlib inline\n",
    "import numpy as np\n",
    "import matplotlib.pyplot as plt\n",
    "import math"
   ]
  },
  {
   "cell_type": "markdown",
   "metadata": {},
   "source": [
    "Let start first by calling Heppi and retreive the signal and background combined trees. This will allows us to create a fitting model that we will use for our significance hestimation. "
   ]
  },
  {
   "cell_type": "code",
   "execution_count": 2,
   "metadata": {
    "collapsed": false
   },
   "outputs": [
    {
     "data": {
      "application/javascript": [
       "require(['codemirror/mode/clike/clike'], function(Clike) { console.log('ROOTaaS - C++ CodeMirror module loaded'); });"
      ]
     },
     "metadata": {},
     "output_type": "display_data"
    },
    {
     "data": {
      "application/javascript": [
       "IPython.CodeCell.config_defaults.highlight_modes['magic_text/x-c++src'] = {'reg':[/^%%cpp/]};"
      ]
     },
     "metadata": {},
     "output_type": "display_data"
    },
    {
     "name": "stdout",
     "output_type": "stream",
     "text": [
      "Welcome to ROOTaaS 6.06/02\n",
      "OBJ: TStyle\tYacineStyle\tYacine Style : 0 at: 0x7fc93fec9800\r\n"
     ]
    }
   ],
   "source": [
    "from heppi import heppi\n",
    "from heppi import rootnotes"
   ]
  },
  {
   "cell_type": "markdown",
   "metadata": {},
   "source": [
    "`Heppi` requires a plotcard with defined variables and the signal and background samples. The plot card should contrain the two variables that we want to optimise and extract the significance, wihch are in our case the $m_{\\gamma\\gamma}$ and the BDT$_{jj,\\gamma\\gamma}$"
   ]
  },
  {
   "cell_type": "code",
   "execution_count": 7,
   "metadata": {
    "collapsed": false
   },
   "outputs": [
    {
     "ename": "SyntaxError",
     "evalue": "non-keyword arg after keyword arg (<ipython-input-7-bf68634cb3a8>, line 16)",
     "output_type": "error",
     "traceback": [
      "\u001b[0;36m  File \u001b[0;32m\"<ipython-input-7-bf68634cb3a8>\"\u001b[0;36m, line \u001b[0;32m16\u001b[0m\n\u001b[0;31m    l1 = fig2.add_subplot(111).plot(x1,y1, label=\"Text $formula$\", \"r-\", lw=2)\u001b[0m\n\u001b[0;31mSyntaxError\u001b[0m\u001b[0;31m:\u001b[0m non-keyword arg after keyword arg\n"
     ]
    }
   ],
   "source": [
    "from numpy import arange\n",
    "import matplotlib\n",
    "# import matplotlib as mpl\n",
    "import matplotlib.pyplot\n",
    "# import matplotlib.pyplot as plt\n",
    "\n",
    "x1 = [1,2,3]\n",
    "y1 = [4,5,6]\n",
    "x2 = [1,2,3]\n",
    "y2 = [5,5,5]\n",
    "\n",
    "# initialization\n",
    "fig2 = matplotlib.pyplot.figure(figsize=(8.0, 5.0)) # The size of the figure is specified as (width, height) in inches\n",
    "\n",
    "# lines:\n",
    "l1 = fig2.add_subplot(111).plot(x1,y1, label=\"Text $formula$\", \"r-\", lw=2)\n",
    "l2 = fig2.add_subplot(111).plot(x2,y2, label=\"$legend2$\" ,\"g--\", lw=3)\n",
    "fig2.add_subplot(111).legend((l1,l2), loc=0)"
   ]
  },
  {
   "cell_type": "code",
   "execution_count": 1,
   "metadata": {
    "collapsed": false
   },
   "outputs": [
    {
     "name": "stdout",
     "output_type": "stream",
     "text": [
      "--2016-06-25 01:10:34--  https://raw.githubusercontent.com/cgumpert/roofit/master/rootprint.py\n",
      "Resolving raw.githubusercontent.com... 151.101.36.133\n",
      "Connecting to raw.githubusercontent.com|151.101.36.133|:443... connected.\n",
      "HTTP request sent, awaiting response... 200 OK\n",
      "Length: 1281 (1.3K) [text/plain]\n",
      "Saving to: 'rootprint.py'\n",
      "\n",
      "rootprint.py        100%[===================>]   1.25K  --.-KB/s    in 0s      \n",
      "\n",
      "2016-06-25 01:10:35 (16.7 MB/s) - 'rootprint.py' saved [1281/1281]\n",
      "\n"
     ]
    }
   ],
   "source": [
    "!wget https://raw.githubusercontent.com/cgumpert/roofit/master/rootprint.py"
   ]
  },
  {
   "cell_type": "code",
   "execution_count": null,
   "metadata": {
    "collapsed": true
   },
   "outputs": [],
   "source": []
  }
 ],
 "metadata": {
  "kernelspec": {
   "display_name": "Python 2",
   "language": "python",
   "name": "python2"
  },
  "language_info": {
   "codemirror_mode": {
    "name": "ipython",
    "version": 2
   },
   "file_extension": ".py",
   "mimetype": "text/x-python",
   "name": "python",
   "nbconvert_exporter": "python",
   "pygments_lexer": "ipython2",
   "version": "2.7.11"
  }
 },
 "nbformat": 4,
 "nbformat_minor": 0
}
