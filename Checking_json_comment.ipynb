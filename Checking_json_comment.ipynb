{
 "cells": [
  {
   "cell_type": "code",
   "execution_count": 2,
   "metadata": {
    "collapsed": false,
    "scrolled": true
   },
   "outputs": [
    {
     "name": "stdout",
     "output_type": "stream",
     "text": [
      "{\"variables\":{\"J1J3_dipho_dPhi\":{\"hist\":\"(100,0,100)\",\"cut\":\"\",\"log\":false,\"norm\":false,\"title\":\"\"},\"dMjj_d13_23\":{\"hist\":\"(100,0,100)\",\"cut\":\"\",\"log\":false,\"norm\":false,\"title\":\"\"},\"dipho_leadIDMVA\":{\"hist\":\"(100,0,100)\",\"cut\":\"\",\"log\":false,\"norm\":false,\"title\":\"\"},\"misPt_dPhi_2J\":{\"hist\":\"(100,0,100)\",\"cut\":\"\",\"log\":false,\"norm\":false,\"title\":\"\"},\"dipho_mva\":{\"hist\":\"(100,0,100)\",\"cut\":\"\",\"log\":false,\"norm\":false,\"title\":\"\"},\"cos_dijet_dipho_dphi\":{\"hist\":\"(100,0,100)\",\"cut\":\"\",\"log\":false,\"norm\":false,\"title\":\"\"},\"dipho_subleadPt\":{\"hist\":\"(100,0,100)\",\"cut\":\"\",\"log\":false,\"norm\":false,\"title\":\"\"},\"momentum4Volume\":{\"hist\":\"(100,0,100)\",\"cut\":\"\",\"log\":false,\"norm\":false,\"title\":\"\"},\"candidate_id\":{\"hist\":\"(100,0,100)\",\"cut\":\"\",\"log\":false,\"norm\":false,\"title\":\"\"},\"dipho_lead_hoe\":{\"hist\":\"(100,0,100)\",\"cut\":\"\",\"log\":false,\"norm\":false,\"title\":\"\"},\"dipho_subleadEta\":{\"hist\":\"(100,0,100)\",\"cut\":\"\",\"log\":false,\"norm\":false,\"title\":\"\"},\"hasClosestParticleToSubLeadingPhoton\":{\"hist\":\"(100,0,100)\",\"cut\":\"\",\"log\":false,\"norm\":false,\"title\":\"\"},\"hasClosestParticleToSubLeadingJet\":{\"hist\":\"(100,0,100)\",\"cut\":\"\",\"log\":false,\"norm\":false,\"title\":\"\"},\"jet1_pt_test\":{\"hist\":\"(100,0,100)\",\"cut\":\"\",\"log\":false,\"norm\":false,\"title\":\"\"},\"misPt_mag_3J\":{\"hist\":\"(100,0,100)\",\"cut\":\"\",\"log\":false,\"norm\":false,\"title\":\"\"},\"dipho_sublead_sigmaEoE\":{\"hist\":\"(100,0,100)\",\"cut\":\"\",\"log\":false,\"norm\":false,\"title\":\"\"},\"dEta_dJ1_J2J3\":{\"hist\":\"(100,0,100)\",\"cut\":\"\",\"log\":false,\"norm\":false,\"title\":\"\"},\"dEta_J2_J3J1\":{\"hist\":\"(100,0,100)\",\"cut\":\"\",\"log\":false,\"norm\":false,\"title\":\"\"},\"J1J3_mjj\":{\"hist\":\"(100,0,100)\",\"cut\":\"\",\"log\":false,\"norm\":false,\"title\":\"\"},\"hasClosestParticleToLeadingJet\":{\"hist\":\"(100,0,100)\",\"cut\":\"\",\"log\":false,\"norm\":false,\"title\":\"\"},\"J1J2_Zep\":{\"hist\":\"(100,0,100)\",\"cut\":\"\",\"log\":false,\"norm\":false,\"title\":\"\"},\"dipho_mass\":{\"hist\":\"(100,0,100)\",\"cut\":\"\",\"log\":false,\"norm\":false,\"title\":\"\"},\"dMjj_d12_23\":{\"hist\":\"(100,0,100)\",\"cut\":\"\",\"log\":false,\"norm\":false,\"title\":\"\"},\"dPhi_max_jets\":{\"hist\":\"(100,0,100)\",\"cut\":\"\",\"log\":false,\"norm\":false,\"title\":\"\"},\"dipho_PToM\":{\"hist\":\"(100,0,100)\",\"cut\":\"\",\"log\":false,\"norm\":false,\"title\":\"\"},\"J1J2J3_dipho_dPhi\":{\"hist\":\"(100,0,100)\",\"cut\":\"\",\"log\":false,\"norm\":false,\"title\":\"\"},\"jet1_eta\":{\"hist\":\"(100,0,100)\",\"cut\":\"\",\"log\":false,\"norm\":false,\"title\":\"\"},\"J1J3_dEta\":{\"hist\":\"(100,0,100)\",\"cut\":\"\",\"log\":false,\"norm\":false,\"title\":\"\"},\"hasClosestGenJetToLeadingJet\":{\"hist\":\"(100,0,100)\",\"cut\":\"\",\"log\":false,\"norm\":false,\"title\":\"\"},\"dijet_SubJPt\":{\"hist\":\"(100,0,100)\",\"cut\":\"\",\"log\":false,\"norm\":false,\"title\":\"\"},\"dijet_subleady\":{\"hist\":\"(100,0,100)\",\"cut\":\"\",\"log\":false,\"norm\":false,\"title\":\"\"},\"eta_genJetMatchingToJ2\":{\"hist\":\"(100,0,100)\",\"cut\":\"\",\"log\":false,\"norm\":false,\"title\":\"\"},\"eta_genJetMatchingToJ3\":{\"hist\":\"(100,0,100)\",\"cut\":\"\",\"log\":false,\"norm\":false,\"title\":\"\"},\"eta_genJetMatchingToJ1\":{\"hist\":\"(100,0,100)\",\"cut\":\"\",\"log\":false,\"norm\":false,\"title\":\"\"},\"weight\":{\"hist\":\"(100,0,100)\",\"cut\":\"\",\"log\":false,\"norm\":false,\"title\":\"\"},\"jet2_pt\":{\"hist\":\"(100,0,100)\",\"cut\":\"\",\"log\":false,\"norm\":false,\"title\":\"\"},\"dipho_lead_elveto\":{\"hist\":\"(100,0,100)\",\"cut\":\"\",\"log\":false,\"norm\":false,\"title\":\"\"},\"run\":{\"hist\":\"(100,0,100)\",\"cut\":\"\",\"log\":false,\"norm\":false,\"title\":\"\"},\"dipho_sumpt\":{\"hist\":\"(100,0,100)\",\"cut\":\"\",\"log\":false,\"norm\":false,\"title\":\"\"},\"event\":{\"hist\":\"(100,0,100)\",\"cut\":\"\",\"log\":false,\"norm\":false,\"title\":\"\"},\"jet2_eta\":{\"hist\":\"(100,0,100)\",\"cut\":\"\",\"log\":false,\"norm\":false,\"title\":\"\"},\"hasClosestGenJetToSubLeadingJet\":{\"hist\":\"(100,0,100)\",\"cut\":\"\",\"log\":false,\"norm\":false,\"title\":\"\"},\"dPhi_min_jets\":{\"hist\":\"(100,0,100)\",\"cut\":\"\",\"log\":false,\"norm\":false,\"title\":\"\"},\"dipho_leadPhi\":{\"hist\":\"(100,0,100)\",\"cut\":\"\",\"log\":false,\"norm\":false,\"title\":\"\"},\"hasClosestParticleToLeadingPhoton\":{\"hist\":\"(100,0,100)\",\"cut\":\"\",\"log\":false,\"norm\":false,\"title\":\"\"},\"nvtx\":{\"hist\":\"(100,0,100)\",\"cut\":\"\",\"log\":false,\"norm\":false,\"title\":\"\"},\"dijet_subleadEta\":{\"hist\":\"(100,0,100)\",\"cut\":\"\",\"log\":false,\"norm\":false,\"title\":\"\"},\"genZ\":{\"hist\":\"(100,0,100)\",\"cut\":\"\",\"log\":false,\"norm\":false,\"title\":\"\"},\"dijet_LeadJPt\":{\"hist\":\"(100,0,100)\",\"cut\":\"\",\"log\":false,\"norm\":false,\"title\":\"\"},\"Mjjj\":{\"hist\":\"(100,0,100)\",\"cut\":\"\",\"log\":false,\"norm\":false,\"title\":\"\"},\"dR_dipho_dijet23\":{\"hist\":\"(100,0,100)\",\"cut\":\"\",\"log\":false,\"norm\":false,\"title\":\"\"},\"dijet_abs_dEta\":{\"hist\":\"(100,0,100)\",\"cut\":\"\",\"log\":false,\"norm\":false,\"title\":\"\"},\"J1J2_dR\":{\"hist\":\"(100,0,100)\",\"cut\":\"\",\"log\":false,\"norm\":false,\"title\":\"\"},\"dipho_dijet_MVA\":{\"hist\":\"(100,0,100)\",\"cut\":\"\",\"log\":false,\"norm\":false,\"title\":\"\"},\"dipho_cosphi\":{\"hist\":\"(100,0,100)\",\"cut\":\"\",\"log\":false,\"norm\":false,\"title\":\"\"},\"dEta_J3_J1J2\":{\"hist\":\"(100,0,100)\",\"cut\":\"\",\"log\":false,\"norm\":false,\"title\":\"\"},\"dijet_dipho_pt\":{\"hist\":\"(100,0,100)\",\"cut\":\"\",\"log\":false,\"norm\":false,\"title\":\"\"},\"dipho_leadEt\":{\"hist\":\"(100,0,100)\",\"cut\":\"\",\"log\":false,\"norm\":false,\"title\":\"\"},\"has3Jet\":{\"hist\":\"(100,0,100)\",\"cut\":\"\",\"log\":false,\"norm\":false,\"title\":\"\"},\"dR_dipho_dijet13\":{\"hist\":\"(100,0,100)\",\"cut\":\"\",\"log\":false,\"norm\":false,\"title\":\"\"},\"dR_dipho_dijet12\":{\"hist\":\"(100,0,100)\",\"cut\":\"\",\"log\":false,\"norm\":false,\"title\":\"\"},\"dijet_dphi\":{\"hist\":\"(100,0,100)\",\"cut\":\"\",\"log\":false,\"norm\":false,\"title\":\"\"},\"dijet_mva\":{\"hist\":\"(100,0,100)\",\"cut\":\"\",\"log\":false,\"norm\":false,\"title\":\"\"},\"dR_Photon1_J1\":{\"hist\":\"(100,0,100)\",\"cut\":\"\",\"log\":false,\"norm\":false,\"title\":\"\"},\"dR_Photon1_J2\":{\"hist\":\"(100,0,100)\",\"cut\":\"\",\"log\":false,\"norm\":false,\"title\":\"\"},\"dR_Photon1_J3\":{\"hist\":\"(100,0,100)\",\"cut\":\"\",\"log\":false,\"norm\":false,\"title\":\"\"},\"sublPho_PToM\":{\"hist\":\"(100,0,100)\",\"cut\":\"\",\"log\":false,\"norm\":false,\"title\":\"\"},\"J2J3_dEta\":{\"hist\":\"(100,0,100)\",\"cut\":\"\",\"log\":false,\"norm\":false,\"title\":\"\"},\"dipho_leadR9\":{\"hist\":\"(100,0,100)\",\"cut\":\"\",\"log\":false,\"norm\":false,\"title\":\"\"},\"dR_min_J12J23\":{\"hist\":\"(100,0,100)\",\"cut\":\"\",\"log\":false,\"norm\":false,\"title\":\"\"},\"dR_Photon2_J1\":{\"hist\":\"(100,0,100)\",\"cut\":\"\",\"log\":false,\"norm\":false,\"title\":\"\"},\"dR_Photon2_J3\":{\"hist\":\"(100,0,100)\",\"cut\":\"\",\"log\":false,\"norm\":false,\"title\":\"\"},\"dR_Photon2_J2\":{\"hist\":\"(100,0,100)\",\"cut\":\"\",\"log\":false,\"norm\":false,\"title\":\"\"},\"pt_genJetMatchingToJ1\":{\"hist\":\"(100,0,100)\",\"cut\":\"\",\"log\":false,\"norm\":false,\"title\":\"\"},\"dR_dipho_trijet\":{\"hist\":\"(100,0,100)\",\"cut\":\"\",\"log\":false,\"norm\":false,\"title\":\"\"},\"pt_genJetMatchingToJ3\":{\"hist\":\"(100,0,100)\",\"cut\":\"\",\"log\":false,\"norm\":false,\"title\":\"\"},\"pt_genJetMatchingToJ2\":{\"hist\":\"(100,0,100)\",\"cut\":\"\",\"log\":false,\"norm\":false,\"title\":\"\"},\"dijet_minDRJetPho\":{\"hist\":\"(100,0,100)\",\"cut\":\"\",\"log\":false,\"norm\":false,\"title\":\"\"},\"dijet_dipho_dphi\":{\"hist\":\"(100,0,100)\",\"cut\":\"\",\"log\":false,\"norm\":false,\"title\":\"\"},\"dRToNearestPartonJ2\":{\"hist\":\"(100,0,100)\",\"cut\":\"\",\"log\":false,\"norm\":false,\"title\":\"\"},\"J2J3_dipho_dPhi\":{\"hist\":\"(100,0,100)\",\"cut\":\"\",\"log\":false,\"norm\":false,\"title\":\"\"},\"dijet_dPhi_trunc\":{\"hist\":\"(100,0,100)\",\"cut\":\"\",\"log\":false,\"norm\":false,\"title\":\"\"},\"dPhi_J2_J3\":{\"hist\":\"(100,0,100)\",\"cut\":\"\",\"log\":false,\"norm\":false,\"title\":\"\"},\"dijet_Mjj\":{\"hist\":\"(100,0,100)\",\"cut\":\"\",\"log\":false,\"norm\":false,\"title\":\"\"},\"J1J2J3_Zep\":{\"hist\":\"(100,0,100)\",\"cut\":\"\",\"log\":false,\"norm\":false,\"title\":\"\"},\"dipho_leadEta\":{\"hist\":\"(100,0,100)\",\"cut\":\"\",\"log\":false,\"norm\":false,\"title\":\"\"},\"dMjj_d12_13\":{\"hist\":\"(100,0,100)\",\"cut\":\"\",\"log\":false,\"norm\":false,\"title\":\"\"},\"dipho_subleadEt\":{\"hist\":\"(100,0,100)\",\"cut\":\"\",\"log\":false,\"norm\":false,\"title\":\"\"},\"dijet_Zep\":{\"hist\":\"(100,0,100)\",\"cut\":\"\",\"log\":false,\"norm\":false,\"title\":\"\"},\"J1J2_dEta\":{\"hist\":\"(100,0,100)\",\"cut\":\"\",\"log\":false,\"norm\":false,\"title\":\"\"},\"J1J2_mjj\":{\"hist\":\"(100,0,100)\",\"cut\":\"\",\"log\":false,\"norm\":false,\"title\":\"\"},\"J1J2_dipho_dPhi\":{\"hist\":\"(100,0,100)\",\"cut\":\"\",\"log\":false,\"norm\":false,\"title\":\"\"},\"dPhi_J1_J2\":{\"hist\":\"(100,0,100)\",\"cut\":\"\",\"log\":false,\"norm\":false,\"title\":\"\"},\"dPhi_J1_J3\":{\"hist\":\"(100,0,100)\",\"cut\":\"\",\"log\":false,\"norm\":false,\"title\":\"\"},\"misPt_dPhi_d3J2J\":{\"hist\":\"(100,0,100)\",\"cut\":\"\",\"log\":false,\"norm\":false,\"title\":\"\"},\"J2J3_mjj\":{\"hist\":\"(100,0,100)\",\"cut\":\"\",\"log\":false,\"norm\":false,\"title\":\"\"},\"dipho_subleadIDMVA\":{\"hist\":\"(100,0,100)\",\"cut\":\"\",\"log\":false,\"norm\":false,\"title\":\"\"},\"dipho_lead_sieie\":{\"hist\":\"(100,0,100)\",\"cut\":\"\",\"log\":false,\"norm\":false,\"title\":\"\"},\"dEta_J1_J2J3\":{\"hist\":\"(100,0,100)\",\"cut\":\"\",\"log\":false,\"norm\":false,\"title\":\"\"},\"dipho_sublead_elveto\":{\"hist\":\"(100,0,100)\",\"cut\":\"\",\"log\":false,\"norm\":false,\"title\":\"\"},\"J2J3_Zep\":{\"hist\":\"(100,0,100)\",\"cut\":\"\",\"log\":false,\"norm\":false,\"title\":\"\"},\"misPt_mag_2J\":{\"hist\":\"(100,0,100)\",\"cut\":\"\",\"log\":false,\"norm\":false,\"title\":\"\"},\"dipho_lead_ptoM\":{\"hist\":\"(100,0,100)\",\"cut\":\"\",\"log\":false,\"norm\":false,\"title\":\"\"},\"dipho_sublead_hoe\":{\"hist\":\"(100,0,100)\",\"cut\":\"\",\"log\":false,\"norm\":false,\"title\":\"\"},\"dipho_subleadPhi\":{\"hist\":\"(100,0,100)\",\"cut\":\"\",\"log\":false,\"norm\":false,\"title\":\"\"},\"misPt_mag_d3J2J\":{\"hist\":\"(100,0,100)\",\"cut\":\"\",\"log\":false,\"norm\":false,\"title\":\"\"},\"J2J3_dR\":{\"hist\":\"(100,0,100)\",\"cut\":\"\",\"log\":false,\"norm\":false,\"title\":\"\"},\"J1J3_Zep\":{\"hist\":\"(100,0,100)\",\"cut\":\"\",\"log\":false,\"norm\":false,\"title\":\"\"},\"dijet_dipho_dphi_trunc\":{\"hist\":\"(100,0,100)\",\"cut\":\"\",\"log\":false,\"norm\":false,\"title\":\"\"},\"dRToNearestPartonJ1\":{\"hist\":\"(100,0,100)\",\"cut\":\"\",\"log\":false,\"norm\":false,\"title\":\"\"},\"dipho_sublead_ptoM\":{\"hist\":\"(100,0,100)\",\"cut\":\"\",\"log\":false,\"norm\":false,\"title\":\"\"},\"dRToNearestPartonJ3\":{\"hist\":\"(100,0,100)\",\"cut\":\"\",\"log\":false,\"norm\":false,\"title\":\"\"},\"dEta_dJ3_J1J2\":{\"hist\":\"(100,0,100)\",\"cut\":\"\",\"log\":false,\"norm\":false,\"title\":\"\"},\"dEta_dJ2_J3J1\":{\"hist\":\"(100,0,100)\",\"cut\":\"\",\"log\":false,\"norm\":false,\"title\":\"\"},\"numberOfMatches\":{\"hist\":\"(100,0,100)\",\"cut\":\"\",\"log\":false,\"norm\":false,\"title\":\"\"},\"misPt_dPhi_3J\":{\"hist\":\"(100,0,100)\",\"cut\":\"\",\"log\":false,\"norm\":false,\"title\":\"\"},\"dipho_sublead_sieie\":{\"hist\":\"(100,0,100)\",\"cut\":\"\",\"log\":false,\"norm\":false,\"title\":\"\"},\"dipho_leadPt\":{\"hist\":\"(100,0,100)\",\"cut\":\"\",\"log\":false,\"norm\":false,\"title\":\"\"},\"Mjj\":{\"hist\":\"(100,0,100)\",\"cut\":\"\",\"log\":false,\"norm\":false,\"title\":\"\"},\"rho\":{\"hist\":\"(100,0,100)\",\"cut\":\"\",\"log\":false,\"norm\":false,\"title\":\"\"},\"lumi\":{\"hist\":\"(100,0,100)\",\"cut\":\"\",\"log\":false,\"norm\":false,\"title\":\"\"},\"dijet_leady\":{\"hist\":\"(100,0,100)\",\"cut\":\"\",\"log\":false,\"norm\":false,\"title\":\"\"},\"dMjj_d12_13plus23\":{\"hist\":\"(100,0,100)\",\"cut\":\"\",\"log\":false,\"norm\":false,\"title\":\"\"},\"leadPho_PToM\":{\"hist\":\"(100,0,100)\",\"cut\":\"\",\"log\":false,\"norm\":false,\"title\":\"\"},\"dipho_lead_sigmaEoE\":{\"hist\":\"(100,0,100)\",\"cut\":\"\",\"log\":false,\"norm\":false,\"title\":\"\"},\"dipho_subleadR9\":{\"hist\":\"(100,0,100)\",\"cut\":\"\",\"log\":false,\"norm\":false,\"title\":\"\"},\"J1J3_dR\":{\"hist\":\"(100,0,100)\",\"cut\":\"\",\"log\":false,\"norm\":false,\"title\":\"\"}},\"selection\":{\"cutflow\":\"\"},\"tree\":{\"name\":\"vbfTagDumper/*VBFDiJet\"},\"processes\":{\"vbf_m125\":{\"color\":0,\"label\":\"\",\"order\":0,\"name\":\"VBFHToGG_M-125_13TeV_powheg_pythia8\",\"title\":\"vbf_m125\"},\"ggf_m125\":{\"color\":1,\"label\":\"\",\"order\":1,\"name\":\"GluGluHToGG_M-125_13TeV_powheg_pythia8\",\"title\":\"ggf_m125\"}}}\n"
     ]
    }
   ],
   "source": [
    "from jsmin import jsmin\n",
    "with open('plotcard.json') as js_file:\n",
    "    minified = jsmin(js_file.read())\n",
    "    print minified"
   ]
  },
  {
   "cell_type": "code",
   "execution_count": 78,
   "metadata": {
    "collapsed": false
   },
   "outputs": [
    {
     "name": "stdout",
     "output_type": "stream",
     "text": [
      "-----------------------------------\n",
      "-->  variables\n",
      "-----------------------------------\n",
      "\t --   jet3_pt\n",
      "\t --   jet3_eta\n",
      "\t --   dipho_lead_ptoM\n",
      "\t --   dijet_leadEta\n",
      "\t --   dipho_lead_elveto\n",
      "\t --   dipho_leadIDMVA\n",
      "\t --   has3Jet\n",
      "\t --   dipho_mva\n",
      "\t --   dijet_minDRJetPho\n",
      "\t --   dijet_dipho_dphi\n",
      "\t --   dijet_dipho_dphi_trunc\n",
      "\t --   dipho_sublead_ptoM\n",
      "\t --   dijet_subleadEta\n",
      "\t --   dijet_Mjj\n",
      "\t --   numberOfMatches\n",
      "\t --   dipho_sublead_elveto\n",
      "\t --   dijet_Zep\n",
      "\t --   dijet_leady\n",
      "\t --   dipho_mass\n",
      "\t --   dipho_subleadIDMVA\n",
      "\t --   dijet_dipho_pt\n",
      "\t --   dipho_sumpt\n",
      "\t --   dipho_PToM\n",
      "\t --   dijet_LeadJPt\n",
      "\t --   dipho_cosphi\n",
      "\t --   dijet_abs_dEta\n",
      "\t --   dijet_mva\n",
      "\t --   dijet_SubJPt\n",
      "\t --   dijet_subleady\n",
      "-----------------------------------\n",
      "-->  selection\n",
      "-----------------------------------\n",
      "\t --   name\n",
      "\t --   title\n",
      "-----------------------------------\n",
      "-->  tree\n",
      "-----------------------------------\n",
      "\t --   lumifactor\n",
      "\t --   name\n",
      "-----------------------------------\n",
      "--> warning:: samples  not found!\n",
      "-----------------------------------\n",
      "-----------------------------------\n",
      "--> warning:: label  not found!\n",
      "-----------------------------------\n",
      "-----------------------------------\n",
      "{u'lumifactor': 1, u'name': u'vbfTagDumper/*VBFDiJet'}\n"
     ]
    }
   ],
   "source": [
    "import os, glob, json, jsmin\n",
    "import logging\n",
    "from jsmin import jsmin\n",
    "class object():\n",
    "    pass\n",
    "\n",
    "from collections import namedtuple\n",
    "variable_m = namedtuple('variable','name hist log norm title cut')\n",
    "class var_to_obj:\n",
    "    def __init__(self, **entries):\n",
    "        self.__dict__.update(entries)\n",
    "\n",
    "        \n",
    "        \n",
    "def read_plotcard(plotcard=''):\n",
    "    obj = object()\n",
    "    with open(plotcard) as f:\n",
    "        obj.json = json.loads(jsmin(f.read()))\n",
    "        obj.variables = [obj.json[key] for key in obj.json if 'variables' in key]\n",
    "        obj.samples   = [obj.json[key] for key in obj.json if 'processes' in key]\n",
    "        obj.labels    = [obj.json[key] for key in obj.json if 'labels'    in key]\n",
    "        obj.tree      = [obj.json[key] for key in obj.json if 'tree'      in key]\n",
    "        obj.selection = []\n",
    "    return obj\n",
    "\n",
    "_template_ = {\n",
    "    \"variables\" : {},\n",
    "    \"samples\"   : {},\n",
    "    \"label\"     : {},\n",
    "    \"selection\" : {},\n",
    "    \"tree\"      : {}\n",
    "}\n",
    "\n",
    "\n",
    "\n",
    "def plotcard_reader(plotcard=''):\n",
    "    obj = object()\n",
    "    with open(plotcard) as f:\n",
    "        obj.json = json.loads(jsmin(f.read()))\n",
    "    for entry in _template_:\n",
    "        if entry in obj.json:\n",
    "            print '-----------------------------------'\n",
    "            print '--> ', entry\n",
    "            print '-----------------------------------'\n",
    "            setattr(obj, entry, obj.json[entry])\n",
    "            for a in getattr(obj, entry):\n",
    "                print '\\t --  ', a\n",
    "        else:\n",
    "            print '-----------------------------------'\n",
    "            print '--> warning::', entry, ' not found!'\n",
    "            print '-----------------------------------'\n",
    "            setattr(obj, entry, _template_[entry])\n",
    "    print '-----------------------------------'\n",
    "    return obj\n",
    "print plotcard_reader('config/vbf_plotcard_allbkg.json').tree\n",
    "\n",
    "\n"
   ]
  },
  {
   "cell_type": "code",
   "execution_count": 79,
   "metadata": {
    "collapsed": false
   },
   "outputs": [],
   "source": [
    "obj = read_plotcard('plotcard.json')"
   ]
  },
  {
   "cell_type": "code",
   "execution_count": 81,
   "metadata": {
    "collapsed": false
   },
   "outputs": [
    {
     "name": "stdout",
     "output_type": "stream",
     "text": [
      "[{u'name': u'vbfTagDumper/*VBFDiJet'}]\n"
     ]
    }
   ],
   "source": [
    "print obj.tree"
   ]
  },
  {
   "cell_type": "code",
   "execution_count": null,
   "metadata": {
    "collapsed": true
   },
   "outputs": [],
   "source": []
  }
 ],
 "metadata": {
  "kernelspec": {
   "display_name": "Python 2",
   "language": "python",
   "name": "python2"
  },
  "language_info": {
   "codemirror_mode": {
    "name": "ipython",
    "version": 2
   },
   "file_extension": ".py",
   "mimetype": "text/x-python",
   "name": "python",
   "nbconvert_exporter": "python",
   "pygments_lexer": "ipython2",
   "version": "2.7.10"
  }
 },
 "nbformat": 4,
 "nbformat_minor": 0
}
